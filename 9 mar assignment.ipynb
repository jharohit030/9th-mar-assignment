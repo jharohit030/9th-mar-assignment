{
 "cells": [
  {
   "cell_type": "code",
   "execution_count": null,
   "id": "d456a31e",
   "metadata": {},
   "outputs": [],
   "source": [
    "#Question 1:\n",
    "The Probability Mass Function (PMF) is used for discrete random variables, where the probability of each possible value is assigned a mass. It gives the probability of a random variable taking a specific value. For example, if we roll a dice, the PMF would be the probability of each number from 1 to 6 occurring.\n",
    "Here, each possible value of the random variable (1 to 6) has an assigned probability mass of 1/6.\n",
    "\n",
    "On the other hand, the Probability Density Function (PDF) is used for continuous random variables, where the probability is represented by the area under the curve. It gives the relative likelihood of a continuous random variable taking a specific value. For example, the PDF of a normal distribution would give the probability of a continuous random variable taking on any value between negative and positive infinity.\n",
    "Here, the probability density function gives the relative likelihood of a random variable taking on any value between negative and positive infinity. The area under the curve between two values represents the probability of the random variable taking on a value between those two values."
   ]
  },
  {
   "cell_type": "code",
   "execution_count": null,
   "id": "d1f95ad3",
   "metadata": {},
   "outputs": [],
   "source": [
    "#Question 2:\n",
    "\n",
    "The Cumulative Density Function (CDF) is a mathematical concept used to describe the probability distribution of a random variable. It gives the probability that the random variable takes on a value less than or equal to a given value.\n",
    "For a discrete random variable, the CDF is the sum of the probabilities of all values less than or equal to the given value. For a continuous random variable, the CDF is the integral of the probability density function (PDF) from negative infinity to the given value.\n",
    "Here's an example of a CDF for a fair six-sided die:\n",
    "\n",
    "Here, the CDF gives the probability that the die will roll a value less than or equal to a given value. For example, the probability of rolling a value less than or equal to 3 is 1/2, which is the CDF at x=3.\n",
    "The CDF is an important concept in probability theory because it allows us to calculate probabilities for ranges of values of a random variable, as opposed to just single values. It is also useful for calculating percentiles, which represent the value below which a certain percentage of observations fall."
   ]
  },
  {
   "cell_type": "code",
   "execution_count": null,
   "id": "d02f2124",
   "metadata": {},
   "outputs": [],
   "source": [
    "#Question 3:\n",
    "\n",
    "The normal distribution, also known as the Gaussian distribution, is a continuous probability distribution that is often used as a model for random variables in various fields. Some examples of situations where the normal distribution might be used as a model include:\n",
    "1.Heights and weights of individuals in a population.\n",
    "2.Test scores of a large group of students.\n",
    "3.The amount of time it takes for a service request to be completed in a call center.\n",
    "4.The number of defects in a manufacturing process.\n",
    "5.The returns on financial investments.\n",
    "\n",
    "The normal distribution is characterized by two parameters: the mean (μ) and the standard deviation (σ). The mean represents the center of the distribution, while the standard deviation represents the spread or variability of the distribution. The normal distribution is symmetric around the mean, and the shape of the distribution is determined by the value of the standard deviation.\n",
    "\n",
    "If the standard deviation is small, the distribution will be tall and narrow, with most of the values clustered closely around the mean. If the standard deviation is large, the distribution will be flatter and wider, with values more spread out from the mean. The standard deviation also determines the area under the curve of the distribution, which represents the probability of a random variable taking on a certain range of values.\n",
    "\n",
    "The normal distribution has several important properties, such as the 68-95-99.7 rule (also known as the empirical rule), which states that approximately 68% of the values fall within one standard deviation of the mean, 95% of the values fall within two standard deviations of the mean, and 99.7% of the values fall within three standard deviations of the mean."
   ]
  },
  {
   "cell_type": "code",
   "execution_count": null,
   "id": "68d679c1",
   "metadata": {},
   "outputs": [],
   "source": [
    "#Question 4:\n",
    "\n",
    "The Normal Distribution, also known as the Gaussian Distribution, is an important probability distribution that has many applications in various fields. Some of the reasons why the Normal Distribution is important are:\n",
    "\n",
    "1.Central Limit Theorem: The Normal Distribution is a key component of the Central Limit Theorem, which states that the sum or average of a large number of independent and identically distributed random variables tends towards a Normal Distribution, regardless of the underlying distribution of the individual random variables. This theorem has many important applications, such as in hypothesis testing and confidence intervals.\n",
    "\n",
    "2.Inference: The Normal Distribution plays a central role in statistical inference, which involves making conclusions about a population based on a sample of data. Many statistical tests and models assume that the underlying data follows a Normal Distribution.\n",
    "\n",
    "Some real-life examples of Normal Distribution are:\n",
    "\n",
    "1.Heights and weights of individuals: In a large population, the distribution of heights and weights is often approximately Normal.\n",
    "\n",
    "2.Test scores of a large group of students: In standardized tests, the distribution of scores is often approximately Normal, with a mean around the passing grade and a certain degree of variation.\n",
    "\n",
    "3.The response time of customers to a service request: The distribution of the time it takes for a customer to receive a response to a service request in a call center may follow a Normal Distribution."
   ]
  },
  {
   "cell_type": "code",
   "execution_count": null,
   "id": "0acc63ed",
   "metadata": {},
   "outputs": [],
   "source": [
    "#Question 5:\n",
    "\n",
    "The Bernoulli distribution is a discrete probability distribution that models the outcomes of a single binary event with a probability of success (p) and failure (1-p). It is named after Swiss mathematician Jacob Bernoulli.\n",
    "\n",
    "An example of the Bernoulli distribution is flipping a coin, where the outcome can be either heads or tails with a probability of success or p = 0.5 and failure or 1-p = 0.5.\n",
    "\n",
    "The probability mass function of the Bernoulli distribution is:\n",
    "\n",
    "P(X = 1) = p\n",
    "\n",
    "P(X = 0) = 1 - p\n",
    "\n",
    "Where X is the random variable that takes the value 1 (success) with probability p and 0 (failure) with probability 1-p.\n",
    "\n",
    "The Bernoulli distribution differs from the Binomial distribution in that it models a single trial or event with only two possible outcomes, whereas the Binomial distribution models the number of successes in a fixed number of independent Bernoulli trials. The Binomial distribution is obtained by repeating the Bernoulli trial n times and counting the number of successes.\n"
   ]
  },
  {
   "cell_type": "code",
   "execution_count": null,
   "id": "cbb38c52",
   "metadata": {},
   "outputs": [],
   "source": [
    "#Question 6:\n",
    "\n",
    "To calculate the probability that a randomly selected observation from a normal distribution with mean 50 and standard deviation 10 will be greater than 60, we need to standardize the value 60 using the z-score formula and then use a standard normal distribution table or calculator.\n",
    "\n",
    "The z-score formula is:\n",
    "\n",
    "z = (x - μ) / σ\n",
    "\n",
    "Where x is the value we want to standardize (60 in this case), μ is the population mean (50 in this case), and σ is the population standard deviation (10 in this case).\n",
    "\n",
    "Plugging in the values, we get:\n",
    "\n",
    "z = (60 - 50) / 10 = 1\n",
    "This means that the value 60 is 1 standard deviation above the mean.\n",
    "\n",
    "Using a standard normal distribution table or calculator, we can find the probability that a randomly selected observation from a standard normal distribution (mean=0, standard deviation=1) will be greater than 1, which is approximately 0.1587.\n",
    "\n",
    "Since the dataset is normally distributed with mean 50 and standard deviation 10, we can use the same probability of 0.1587 as an estimate of the probability that a randomly selected observation from this dataset will be greater than 60.\n",
    "\n",
    "Therefore, the probability that a randomly selected observation from the given dataset will be greater than 60 is approximately 0.1587 or 15.87%."
   ]
  },
  {
   "cell_type": "code",
   "execution_count": null,
   "id": "1d539efc",
   "metadata": {},
   "outputs": [],
   "source": [
    "#Question 7:\n",
    "\n",
    "A uniform distribution is a probability distribution where all possible outcomes are equally likely to occur. In other words, if you were to graph the probability of each possible outcome, the resulting graph would be a flat line, indicating that each outcome has the same probability of occurring.\n",
    "\n",
    "An example of a uniform distribution is the roll of a fair six-sided die. Each of the six possible outcomes (1, 2, 3, 4, 5, or 6) is equally likely to occur. Therefore, the probability of rolling any one of these numbers is 1/6, or approximately 0.167."
   ]
  },
  {
   "cell_type": "code",
   "execution_count": null,
   "id": "88ae0a4f",
   "metadata": {},
   "outputs": [],
   "source": [
    "#Question 8:\n",
    "\n",
    "The z-score (also called standard score) is a measure of how many standard deviations a given data point is from the mean of a distribution. It is calculated by subtracting the mean of the population from the data point and then dividing the result by the standard deviation of the population.\n",
    "\n",
    "The formula for the z-score is:\n",
    "\n",
    "z = (x - μ) / σ\n",
    "\n",
    "Where x is the data point, μ is the mean of the population, and σ is the standard deviation of the population.\n",
    "\n",
    "The importance of the z-score lies in its ability to standardize different variables and bring them to a common scale. This allows for the comparison of data from different populations that may have different means and standard deviations."
   ]
  },
  {
   "cell_type": "code",
   "execution_count": null,
   "id": "b0f70e3c",
   "metadata": {},
   "outputs": [],
   "source": [
    "#Question 9:\n",
    "\n",
    "The Central Limit Theorem (CLT) is a fundamental theorem in statistics that states that the sum or average of a large number of independent, identically distributed random variables will tend towards a normal distribution, regardless of the underlying distribution of the original variables.\n",
    "\n",
    "The significance of the Central Limit Theorem is that it allows us to make statistical inferences about a population based on a sample, even when we do not know the distribution of the population. By using the normal distribution as an approximation, we can calculate the probabilities of different outcomes and make confident statements about the characteristics of the population.\n",
    "\n",
    "For example, if we wanted to estimate the mean height of all adult males in a city, we could take a random sample of 100 adult males, compute the mean height of that sample, and use the CLT to approximate the probability distribution of the population mean. This would allow us to estimate the population mean with a certain degree of confidence, and also to calculate a margin of error for our estimate.\n",
    "\n"
   ]
  },
  {
   "cell_type": "code",
   "execution_count": null,
   "id": "e6d12b39",
   "metadata": {},
   "outputs": [],
   "source": [
    "#Question 10:\n",
    "\n",
    "The Central Limit Theorem (CLT) is a powerful statistical concept that allows us to make certain assumptions about a population based on a sample. However, there are some important assumptions that must be met for the CLT to apply. These assumptions are:\n",
    "\n",
    "1.Independence: The sample values must be independent of each other. This means that the value of one sample should not affect the value of another sample.\n",
    "\n",
    "2.Sample Size: The sample size should be sufficiently large. The general rule of thumb is that the sample size should be greater than or equal to 30. However, in some cases, a smaller sample size may be sufficient if the underlying distribution of the population is normal or close to normal.\n",
    "\n",
    "3.Identically distributed: The sample should be drawn from a population with a fixed mean and variance. This means that the samples are drawn from the same population and have the same distribution.\n",
    "\n",
    "4.No outliers: The presence of outliers in the sample can affect the validity of the CLT. Therefore, it is important to check for outliers before applying the CLT.\n",
    "\n"
   ]
  }
 ],
 "metadata": {
  "kernelspec": {
   "display_name": "Python 3 (ipykernel)",
   "language": "python",
   "name": "python3"
  },
  "language_info": {
   "codemirror_mode": {
    "name": "ipython",
    "version": 3
   },
   "file_extension": ".py",
   "mimetype": "text/x-python",
   "name": "python",
   "nbconvert_exporter": "python",
   "pygments_lexer": "ipython3",
   "version": "3.10.9"
  }
 },
 "nbformat": 4,
 "nbformat_minor": 5
}
